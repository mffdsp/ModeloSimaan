{
  "nbformat": 4,
  "nbformat_minor": 0,
  "metadata": {
    "colab": {
      "name": "modelinho.ipynb",
      "provenance": [],
      "collapsed_sections": []
    },
    "kernelspec": {
      "name": "python3",
      "display_name": "Python 3"
    }
  },
  "cells": [
    {
      "cell_type": "markdown",
      "metadata": {
        "id": "sOay4bbFRIs2"
      },
      "source": [
        ""
      ]
    },
    {
      "cell_type": "code",
      "metadata": {
        "id": "C6d1ccZuRGjX"
      },
      "source": [
        "import numpy as np\n",
        "import matplotlib.pyplot as plt\n",
        "import matplotlib.image as mpimg\n",
        "from scipy.integrate import quad\n",
        "\n",
        "class Simaan():\n",
        "    def __init__(self):\n",
        "        #Simulation Time\n",
        "        self.start_t = 0\n",
        "        self.passo = 0.0001\n",
        "        self.end_t = 4\n",
        "\n",
        "        #Uses the already created Time Scale\n",
        "        self.T = list(np.arange(self.start_t,self.end_t,self.passo))\n",
        "        self.n = len(self.T)\n",
        "        \n",
        "        #Cardiovascular System\n",
        "        self.HR = 60\n",
        "        self.Emax = 2.5\n",
        "        self.Emin = 0.06\n",
        "        self.tc = 60/self.HR\n",
        "        self.t_max = 0.2 + 0.1555*self.tc;\n",
        "      \n",
        "        self.En = self.elastance(self.T)\n",
        "        self.E = (self.Emax - self.Emin)*self.En + self.Emin\n",
        "        \n",
        "\n",
        "        #Cardiovascular System Model Parameters (from Simaan2009)\n",
        "\n",
        "        self.Rs = 1\n",
        "        self.Rm = 0.005\n",
        "\n",
        "        self.Cae = 4.4000\n",
        "        self.Ra = 0.0010\n",
        "        self.Rc = 0.0398\n",
        "        self.Cs = 1.3300\n",
        "        self.Cao = 0.0800\n",
        "        self.Ls = 0.0005\n",
        "\n",
        "        self.Vo = 10\n",
        "\n",
        "\n",
        "        #PreAllocating\n",
        "        self.Pao = np.zeros_like(self.T)\n",
        "        self.Qa = np.zeros_like(self.T)\n",
        "        self.Vve = np.zeros_like(self.T)\n",
        "        self.Pas = np.zeros_like(self.T)\n",
        "        self.Pae = np.zeros_like(self.T)\n",
        "        self.Pve = np.zeros_like(self.T)\n",
        "        self.Dm_ = np.zeros_like(self.T)\n",
        "        self.Da_ = np.zeros_like(self.T)\n",
        "\n",
        "\n",
        "        #Initial Conditions\n",
        "        self.Pao[0] = 90\n",
        "        self.Qa[0] = 0\n",
        "        self.Vve[0] = 140 #Left Ventricular Volume\n",
        "        self.Pas[0] = 90\n",
        "        self.Pae[0] = 5\n",
        "\n",
        "\n",
        "        self.Pve[0] = self.E[0]*(self.Vve[0] - self.Vo);\n",
        "\n",
        "        #x = [x1 x2 x3 x4 x5]\n",
        "        self.x = np.transpose([self.Pao[0], self.Qa[0], self.Vve[0], self.Pas[0], self.Pae[0]])\n",
        "\n",
        "        #Initial States of diodes\n",
        "        self.Dm = 0\n",
        "        self.Da = 0\n",
        "\n",
        "        self.Da_[0] = self.Da\n",
        "        self.Dm_[0] = self.Dm\n",
        "\n",
        "\n",
        "    def get_normalized_time(self, t):\n",
        "        value = list(map( lambda x : x % self.tc, t))\n",
        "        return list(map( lambda x : x / self.t_max, value));\n",
        "\n",
        "    def elastance(self, t):\n",
        "        tn = self.get_normalized_time(t)\n",
        "        En = 1.55 * np.power(np.asarray(tn)/.7, 1.9) / (1 + np.power(np.asarray(tn)/.7, 1.9)) / (1 + np.power(np.asarray(tn)/1.17, 21.9))\n",
        "        return (self.Emax-self.Emin)*En + self.Emin  \n",
        "\n",
        "\n"
      ],
      "execution_count": 195,
      "outputs": []
    },
    {
      "cell_type": "code",
      "metadata": {
        "id": "zyIY4IZ7rLdb"
      },
      "source": [
        "def runkut4(passo,A,x,B):\n",
        "    A = np.asarray(A);\n",
        "    x = np.asarray(x);\n",
        "    B = np.asarray(B);\n",
        "\n",
        "    print(x);\n",
        "    xdot = A*x + B\n",
        "    kx1 = passo*xdot\n",
        "    x1 = x + 0.5*kx1\n",
        "\n",
        "    xdot = A*x1 + B\n",
        "    kx2 = passo*x\n",
        "    x1 = x + 0.5*kx2\n",
        "\n",
        "    xdot = A*x1 + B\n",
        "    kx3 = passo*xdot\n",
        "\n",
        "    x1 = x + kx3\n",
        "\n",
        "    xdot = A*x1 + B\n",
        "    kx4 = passo*xdot\n",
        "\n",
        "    return np.asarray(x + (kx1 + 2*kx2 + 2*kx3 + kx4)/6)\n"
      ],
      "execution_count": 183,
      "outputs": []
    },
    {
      "cell_type": "code",
      "metadata": {
        "id": "aeCmfpRHnngV",
        "outputId": "1bc5a79d-488a-4e05-a5d2-86cb4292617f",
        "colab": {
          "base_uri": "https://localhost:8080/",
          "height": 333
        }
      },
      "source": [
        "model = Simaan()\n",
        "\n",
        "for i in range(model.n):\n",
        "    if(i == 3999):\n",
        "      break\n",
        "    if model.Pae[i] >= model.Pve[i]:\n",
        "      model.Dm = 1\n",
        "    else:\n",
        "      model.Dm = 0\n",
        "\n",
        "    if model.Pve[i] >= model.Pao[i]:\n",
        "      model.Da = 1\n",
        "    else:\n",
        "      model.Da = 0\n",
        "\n",
        "\n",
        "    #Matriz A\n",
        "    # lambda = E(i) - Emin*En(i)\n",
        "    a13 = (model.Da)/(model.Ra) * (model.E[i])\n",
        "    a33 = -1*( (model.Dm)/(model.Rm) + (model.Da)/(model.Ra) ) * model.E[i]\n",
        "    a53 = (model.Dm)/(model.Rm) * model.E[i]\n",
        "    a55 = - (1/(model.Rs)  + (model.Dm)/(model.Rm))\n",
        "\n",
        "\n",
        "    # x = [ x1 x2 x3 x4 x5 ]\n",
        "    A = [[0], [0], [0], [0], [0]];\n",
        "    A[0] = [-((model.Da)/(model.Ra)), -1, a13, 0, 0]/np.asarray(model.Cao)\n",
        "    A[1] = [1, -(model.Rc), 0, -1, 0]/np.asarray(model.Ls)\n",
        "    A[2] = [(model.Da)/(model.Ra), 0, a33, 0, (model.Dm)/(model.Rm)]\n",
        "    A[3] = [0, 1, 0, -1/(model.Rs), 1/(model.Rs)]/np.asarray(model.Cs);\n",
        "    A[4] = [0, 0, a53, 1/(model.Rs), a55]/np.asarray(model.Cae);\n",
        "\n",
        "    \n",
        "    #Matriz B\n",
        "    B = [-(((model.Da)/(model.Ra))*model.E[i]*model.Vo)/model.Cao,\n",
        "         0,\n",
        "         ((model.Dm)/(model.Rm) + (model.Da)/(model.Ra))*model.E[i]*model.Vo,\n",
        "         0,\n",
        "         ( -(model.Dm)/(model.Rm)*model.E[i]*model.Vo)/model.Cae]\n",
        "\n",
        "    model.x =  runkut4(model.passo, A,model.x, np.transpose(B))\n",
        "\n",
        "    model.Pao[i+1] = model.x[0] \n",
        "    model.Qa[i+1] = model.x[1] \n",
        "    model.Vve[i+1] = model.x[2]\n",
        "    model.Pas[i+1] = model.x[3]\n",
        "    model.Pae[i+1] = model.x[4]\n",
        "\n",
        "    model.Dm_[i+1] = model.Da\n",
        "    model.Dm_[i+1] = model.Dm\n",
        "\n",
        "    model.Pve[i+1] = model.E[i+1] * (model.Vve[i+1] - model.Vo)\n",
        "\n",
        "\n",
        "    \n",
        "\n",
        "\n",
        "\n",
        "\n",
        "    \n",
        "\n",
        "\n",
        "    \n"
      ],
      "execution_count": 196,
      "outputs": [
        {
          "output_type": "stream",
          "text": [
            "[ 90.   0. 140.  90.   5.]\n"
          ],
          "name": "stdout"
        },
        {
          "output_type": "error",
          "ename": "ValueError",
          "evalue": "ignored",
          "traceback": [
            "\u001b[0;31m---------------------------------------------------------------------------\u001b[0m",
            "\u001b[0;31mTypeError\u001b[0m                                 Traceback (most recent call last)",
            "\u001b[0;31mTypeError\u001b[0m: only size-1 arrays can be converted to Python scalars",
            "\nThe above exception was the direct cause of the following exception:\n",
            "\u001b[0;31mValueError\u001b[0m                                Traceback (most recent call last)",
            "\u001b[0;32m<ipython-input-196-d73f89ea324d>\u001b[0m in \u001b[0;36m<module>\u001b[0;34m()\u001b[0m\n\u001b[1;32m     41\u001b[0m     \u001b[0mmodel\u001b[0m\u001b[0;34m.\u001b[0m\u001b[0mx\u001b[0m \u001b[0;34m=\u001b[0m  \u001b[0mrunkut4\u001b[0m\u001b[0;34m(\u001b[0m\u001b[0mmodel\u001b[0m\u001b[0;34m.\u001b[0m\u001b[0mpasso\u001b[0m\u001b[0;34m,\u001b[0m \u001b[0mA\u001b[0m\u001b[0;34m,\u001b[0m\u001b[0mmodel\u001b[0m\u001b[0;34m.\u001b[0m\u001b[0mx\u001b[0m\u001b[0;34m,\u001b[0m \u001b[0mnp\u001b[0m\u001b[0;34m.\u001b[0m\u001b[0mtranspose\u001b[0m\u001b[0;34m(\u001b[0m\u001b[0mB\u001b[0m\u001b[0;34m)\u001b[0m\u001b[0;34m)\u001b[0m\u001b[0;34m\u001b[0m\u001b[0;34m\u001b[0m\u001b[0m\n\u001b[1;32m     42\u001b[0m \u001b[0;34m\u001b[0m\u001b[0m\n\u001b[0;32m---> 43\u001b[0;31m     \u001b[0mmodel\u001b[0m\u001b[0;34m.\u001b[0m\u001b[0mPao\u001b[0m\u001b[0;34m[\u001b[0m\u001b[0mi\u001b[0m\u001b[0;34m+\u001b[0m\u001b[0;36m1\u001b[0m\u001b[0;34m]\u001b[0m \u001b[0;34m=\u001b[0m \u001b[0mmodel\u001b[0m\u001b[0;34m.\u001b[0m\u001b[0mx\u001b[0m\u001b[0;34m[\u001b[0m\u001b[0;36m0\u001b[0m\u001b[0;34m]\u001b[0m\u001b[0;34m\u001b[0m\u001b[0;34m\u001b[0m\u001b[0m\n\u001b[0m\u001b[1;32m     44\u001b[0m     \u001b[0mmodel\u001b[0m\u001b[0;34m.\u001b[0m\u001b[0mQa\u001b[0m\u001b[0;34m[\u001b[0m\u001b[0mi\u001b[0m\u001b[0;34m+\u001b[0m\u001b[0;36m1\u001b[0m\u001b[0;34m]\u001b[0m \u001b[0;34m=\u001b[0m \u001b[0mmodel\u001b[0m\u001b[0;34m.\u001b[0m\u001b[0mx\u001b[0m\u001b[0;34m[\u001b[0m\u001b[0;36m1\u001b[0m\u001b[0;34m]\u001b[0m\u001b[0;34m\u001b[0m\u001b[0;34m\u001b[0m\u001b[0m\n\u001b[1;32m     45\u001b[0m     \u001b[0mmodel\u001b[0m\u001b[0;34m.\u001b[0m\u001b[0mVve\u001b[0m\u001b[0;34m[\u001b[0m\u001b[0mi\u001b[0m\u001b[0;34m+\u001b[0m\u001b[0;36m1\u001b[0m\u001b[0;34m]\u001b[0m \u001b[0;34m=\u001b[0m \u001b[0mmodel\u001b[0m\u001b[0;34m.\u001b[0m\u001b[0mx\u001b[0m\u001b[0;34m[\u001b[0m\u001b[0;36m2\u001b[0m\u001b[0;34m]\u001b[0m\u001b[0;34m\u001b[0m\u001b[0;34m\u001b[0m\u001b[0m\n",
            "\u001b[0;31mValueError\u001b[0m: setting an array element with a sequence."
          ]
        }
      ]
    },
    {
      "cell_type": "code",
      "metadata": {
        "id": "tERDhEdlKidj",
        "outputId": "0b2b1eb1-d04f-4b18-e112-2c334da92b47",
        "colab": {
          "base_uri": "https://localhost:8080/",
          "height": 265
        }
      },
      "source": [
        "#PLOT\n",
        "\n",
        "import matplotlib.pyplot as plt\n",
        "\n",
        "plt.plot(model.T, model.Pao)\n",
        "plt.ylabel('saidinha')\n",
        "plt.show()"
      ],
      "execution_count": 167,
      "outputs": [
        {
          "output_type": "display_data",
          "data": {
            "image/png": "[encoded data removed]",
            "text/plain": [
              "<Figure size 432x288 with 1 Axes>"
            ]
          },
          "metadata": {
            "tags": [],
            "needs_background": "light"
          }
        }
      ]
    }
  ]
}