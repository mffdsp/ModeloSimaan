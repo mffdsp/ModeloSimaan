{
  "nbformat": 4,
  "nbformat_minor": 0,
  "metadata": {
    "colab": {
      "name": "modelinho.ipynb",
      "provenance": [],
      "collapsed_sections": []
    },
    "kernelspec": {
      "display_name": "Python 3",
      "name": "python3"
    }
  },
  "cells": [
    {
      "cell_type": "markdown",
      "metadata": {
        "id": "sOay4bbFRIs2"
      },
      "source": [
        ""
      ]
    },
    {
      "cell_type": "code",
      "metadata": {
        "id": "C6d1ccZuRGjX"
      },
      "source": [
        "import numpy as np\n",
        "import matplotlib.pyplot as plt\n",
        "import matplotlib.image as mpimg\n",
        "from scipy.integrate import quad\n",
        "\n",
        "\n",
        "class Simaan():\n",
        "    def __init__(self):\n",
        "        #Simulation Time\n",
        "        self.start_t = 0\n",
        "        self.passo = 0.0001\n",
        "        self.end_t = 4\n",
        "\n",
        "        #Uses the already created Time Scale\n",
        "        self.T = list(np.arange(self.start_t,self.end_t,self.passo))\n",
        "        self.n = len(self.T)\n",
        "        \n",
        "        #Cardiovascular System\n",
        "        self.HR = 60\n",
        "        self.Emax = 2.5\n",
        "        self.Emin = 0.06\n",
        "        self.tc = 60/self.HR\n",
        "        self.t_max = 0.2 + 0.1555*self.tc;\n",
        "      \n",
        "        self.En = self.elastance(self.T)\n",
        "        self.E = (self.Emax - self.Emin) * self.En + self.Emin\n",
        "        \n",
        "\n",
        "        #Cardiovascular System Model Parameters (from Simaan2009)\n",
        "\n",
        "        self.Rs = 1\n",
        "        self.Rm = 0.005\n",
        "\n",
        "        self.Cae = 4.4000\n",
        "        self.Ra = 0.0010\n",
        "        self.Rc = 0.0398\n",
        "        self.Cs = 1.3300\n",
        "        self.Cao = 0.0800\n",
        "        self.Ls = 0.0005\n",
        "\n",
        "        self.Vo = 10\n",
        "\n",
        "\n",
        "        #PreAllocating\n",
        "        w, h = 5, 40000;\n",
        "        Matrix = [[0 for x in range(w)] for y in range(h)] \n",
        "\n",
        "        self.Pao = np.zeros_like(self.T)\n",
        "        self.Qa = np.zeros_like(self.T)\n",
        "        self.Vve = np.zeros_like(self.T)\n",
        "        self.Pas = np.zeros_like(self.T)\n",
        "        self.Pae = np.zeros_like(self.T)\n",
        "        self.Pve = np.zeros_like(self.T)\n",
        "        self.Dm_ = np.zeros_like(self.T)\n",
        "        self.Da_ = np.zeros_like(self.T)\n",
        "\n",
        "\n",
        "        #Initial Conditions\n",
        "        self.Pao[0] = 90\n",
        "        self.Qa[0] = 0\n",
        "        self.Vve[0] = 140 #Left Ventricular Volume\n",
        "        self.Pas[0] = 90\n",
        "        self.Pae[0] = 5\n",
        "\n",
        "\n",
        "        self.Pve[0] = self.E[0]*(self.Vve[0] - self.Vo)\n",
        "\n",
        "        #x = [x1 x2 x3 x4 x5]\n",
        "        self.x = np.transpose([self.Pao[0], self.Qa[0], self.Vve[0], self.Pas[0], self.Pae[0]])\n",
        "\n",
        "        #Initial States of diodes\n",
        "        self.Dm = 0\n",
        "        self.Da = 0\n",
        "\n",
        "        self.Da_[0] = self.Da\n",
        "        self.Dm_[0] = self.Dm\n",
        "\n",
        "    def elastance(self, t):\n",
        "\n",
        "        tn = np.asarray(t)%self.tc/self.t_max;\n",
        "        En = 1.55 * np.power(np.asarray(tn)/.7, 1.9) / (1 + np.power(np.asarray(tn)/.7, 1.9)) / (1 + np.power(np.asarray(tn)/1.17, 21.9))\n",
        "        return (self.Emax-self.Emin)*En + self.Emin\n",
        "     \n",
        "        \n",
        "        \n",
        "\n",
        "\n"
      ],
      "execution_count": 6,
      "outputs": []
    },
    {
      "cell_type": "code",
      "metadata": {
        "id": "NjufXmF05EuT"
      },
      "source": [
        "opa = Simaan()\n",
        "a = np.linspace(0, 0.8, 100)\n",
        "#print(np.array(list(map(opa.elastance, a))))\n",
        "b = np.array(list(map(opa.elastance, a)))\n"
      ],
      "execution_count": null,
      "outputs": []
    },
    {
      "cell_type": "code",
      "metadata": {
        "id": "zyIY4IZ7rLdb"
      },
      "source": [
        "def runkut4(passo,A,x,B):\n",
        "    A = np.asarray(A);\n",
        "    x = np.asarray(x);\n",
        "    B = np.asarray(B);\n",
        "\n",
        "    xdot = np.matmul(A, x) + B;\n",
        "    kx1 = passo*xdot\n",
        "    x1 = x + 0.5*kx1\n",
        "\n",
        "    xdot = np.matmul(A, x1) + B\n",
        "    kx2 = passo*xdot\n",
        "    x1 = x + 0.5*kx2\n",
        "\n",
        "    xdot = np.matmul(A, x1) + B\n",
        "    kx3 = passo*xdot\n",
        "    x1 = x + kx3\n",
        "\n",
        "    xdot = np.matmul(A, x1) + B\n",
        "    kx4 = passo*xdot\n",
        "\n",
        "    value = np.asarray(x + (kx1 + 2*kx2 + 2*kx3 + kx4)/6)\n",
        "\n",
        "    return value\n"
      ],
      "execution_count": 9,
      "outputs": []
    },
    {
      "cell_type": "code",
      "metadata": {
        "id": "aeCmfpRHnngV",
        "outputId": "f3b3447c-912a-41c3-c6cd-8410d47438c8",
        "colab": {
          "base_uri": "https://localhost:8080/"
        }
      },
      "source": [
        "import operator\n",
        "import functools as ft \n",
        "\n",
        "model = Simaan()\n",
        "print(model.n)\n",
        "for i in range(model.n):\n",
        "    if(i == 39999):\n",
        "      break\n",
        "    if model.Pae[i] >= model.Pve[i]:\n",
        "      model.Dm = 1\n",
        "    else:\n",
        "      model.Dm = 0\n",
        "\n",
        "    if model.Pve[i] >= model.Pao[i]:\n",
        "      model.Da = 1\n",
        "    else:\n",
        "      model.Da = 0\n",
        "\n",
        "\n",
        "    #Matriz A\n",
        "    # lambda = E(i) - Emin*En(i)\n",
        "    a13 = (model.Da)/(model.Ra) * (model.E[i])\n",
        "    a33 = -1*( (model.Dm)/(model.Rm) + (model.Da)/(model.Ra) ) * model.E[i]\n",
        "    a53 = (model.Dm)/(model.Rm) * model.E[i]\n",
        "    a55 = - (1/(model.Rs)  + (model.Dm)/(model.Rm))\n",
        "\n",
        "\n",
        "    # x = [ x1 x2 x3 x4 x5 ]\n",
        "    A = [[0], [0], [0], [0], [0]];\n",
        "    A[0] = [-((model.Da)/(model.Ra)), -1, a13, 0, 0]/np.asarray(model.Cao)\n",
        "    A[1] = [1, -(model.Rc), 0, -1, 0]/np.asarray(model.Ls)\n",
        "    A[2] = [(model.Da)/(model.Ra), 0, a33, 0, (model.Dm)/(model.Rm)]\n",
        "    A[3] = [0, 1, 0, -1/(model.Rs), 1/(model.Rs)]/np.asarray(model.Cs);\n",
        "    A[4] = [0, 0, a53, 1/(model.Rs), a55]/np.asarray(model.Cae);\n",
        "    A = np.asarray(A);\n",
        "\n",
        "    \n",
        "    #Matriz B\n",
        "    B = [-(((model.Da)/(model.Ra))*model.E[i]*model.Vo)/model.Cao,\n",
        "         0,\n",
        "         ((model.Dm)/(model.Rm) + (model.Da)/(model.Ra))*model.E[i]*model.Vo,\n",
        "         0,\n",
        "         ( -(model.Dm)/(model.Rm)*model.E[i]*model.Vo)/model.Cae]\n",
        "\n",
        "    model.x =  runkut4(model.passo, A, model.x, B)\n",
        "\n",
        "    model.Pao[i+1] =  model.x[0] \n",
        "    model.Qa[i+1] =  model.x[1] \n",
        "    model.Vve[i+1] =  model.x[2]\n",
        "    model.Pas[i+1] =  model.x[3]\n",
        "    model.Pae[i+1] =  model.x[4]\n",
        "\n",
        "    model.Dm_[i+1] = model.Da\n",
        "    model.Dm_[i+1] = model.Dm\n",
        "\n",
        "    model.Pve[i+1] = model.E[i+1] * (model.Vve[i+1] - model.Vo)\n",
        "\n",
        "\n",
        "    \n",
        "\n",
        "\n",
        "\n",
        "\n",
        "    \n",
        "\n",
        "\n",
        "    \n"
      ],
      "execution_count": 10,
      "outputs": [
        {
          "output_type": "stream",
          "text": [
            "40000\n"
          ],
          "name": "stdout"
        }
      ]
    },
    {
      "cell_type": "code",
      "metadata": {
        "id": "tERDhEdlKidj",
        "outputId": "94fae7d7-adc9-4fd4-afd0-a3da30a0e9b3",
        "colab": {
          "base_uri": "https://localhost:8080/",
          "height": 534
        }
      },
      "source": [
        "#PLOT\n",
        "\n",
        "import matplotlib.pyplot as plt\n",
        "\n",
        "plt.plot(model.T, model.Pao)\n",
        "plt.show()\n",
        "\n",
        "#Elastancia\n",
        "plt.plot(model.Vve)"
      ],
      "execution_count": 11,
      "outputs": [
        {
          "output_type": "display_data",
          "data": {
            "image/png": "[encoded data removed]",
            "text/plain": [
              "<Figure size 432x288 with 1 Axes>"
            ]
          },
          "metadata": {
            "tags": [],
            "needs_background": "light"
          }
        },
        {
          "output_type": "execute_result",
          "data": {
            "text/plain": [
              "[<matplotlib.lines.Line2D at 0x7f6779f3af60>]"
            ]
          },
          "metadata": {
            "tags": []
          },
          "execution_count": 11
        },
        {
          "output_type": "display_data",
          "data": {
            "image/png": "[encoded data removed]",
            "text/plain": [
              "<Figure size 432x288 with 1 Axes>"
            ]
          },
          "metadata": {
            "tags": [],
            "needs_background": "light"
          }
        }
      ]
    }
  ]
}